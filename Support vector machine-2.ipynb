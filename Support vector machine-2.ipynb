{
 "cells": [
  {
   "cell_type": "markdown",
   "id": "81855eed-fba9-45c1-a0f8-ab2f22e5f02d",
   "metadata": {},
   "source": [
    "In machine learning ,polonomial kernel function are used in support vector machine(SVM) to handle non-linear decsion boundaries by mapping inputt data into a higher - dimensional feature space.This mapping is often acheived by computiing the dot product between pairs of data points in the orginal space followed by applying a polonomial  function to the result this process effectively transform the input data into higher -dimension space where a linear decsion boundary may be apporpriate.The relationship between polonmial functions and kernel functions lies in how polonmoial kernel functions use polonmial kernel map data into a higher dimensional space,allowing svm to effectively learn non-linear decsion boundaries so in essence polonmial kernel functions ytlize plonmial function as a part of their mathematical formulation to acheive their goal in svm"
   ]
  },
  {
   "cell_type": "markdown",
   "id": "b15a4fd8-2ac4-4566-88b0-9990689a67a1",
   "metadata": {},
   "source": [
    "To implement an svm with the apollo normal kernel in python using sckit-learn you wil firstt need to ensure you have scikit-learn installed then you can follow these steps"
   ]
  },
  {
   "cell_type": "code",
   "execution_count": 1,
   "id": "7715be29-f652-416d-8b28-4202a75948d1",
   "metadata": {},
   "outputs": [
    {
     "ename": "SyntaxError",
     "evalue": "invalid syntax (3423336231.py, line 2)",
     "output_type": "error",
     "traceback": [
      "\u001b[0;36m  Cell \u001b[0;32mIn[1], line 2\u001b[0;36m\u001b[0m\n\u001b[0;31m    from sklearn.model_slection import\u001b[0m\n\u001b[0m                                      ^\u001b[0m\n\u001b[0;31mSyntaxError\u001b[0m\u001b[0;31m:\u001b[0m invalid syntax\n"
     ]
    }
   ],
   "source": [
    "from sklearn import datasets\n",
    "from sklearn.model_slection import\n",
    "train_test_split\n",
    "from sklearn.svm import svc"
   ]
  },
  {
   "cell_type": "markdown",
   "id": "7da69fec-33e0-4963-be0f-c80ed4c8e5e2",
   "metadata": {},
   "source": [
    "In support vector regression svr epslion is a hyperparmeter that controls the width of the margin around the regression line within which no penlaty is incurred it detemines the margin of tolerence where no penlaty is given  to errors increasing allowing more training points to be within the margin without incurring a penlaty:\n",
    "1. wider margin\n",
    "2. More support vectors\n",
    "3. Smaller margin violations"
   ]
  },
  {
   "cell_type": "markdown",
   "id": "123b94c4-8d9d-4476-b46e-69fefce92588",
   "metadata": {},
   "source": [
    "Sure,in support vector regression svr the choice of kernel function,C paramter epslion parmeter and gamma parmter can signficantly affect performnace:\n",
    "1. Kernel function: Detemines the type decsion boundary.Common choice include linear polonmial radial basisc function rbf etc the rbf kernel is often preffred due to its flexblity\n",
    "2. C parmter: Controls the trade-off between maximizing the margin and minimizing the traning error.A larger c value allows for more training errors but may lead to overfitting while a smaller c value enforces a larger margin but may underfit the data if your model is overfitting you might want to dcrease c and if understanding you might want to increase it.\n",
    "3. Epslion Parmter:specfies the margin of tolerance where no penlaty is given to errors it defines a tube arouund regression line within which no penlaty is associated with eorrs increasing epslion allos for more errors within the tube which can make the model robust to noise but may sacrfice accuracy.Decreasing epslion tightens the tube and can lead a more presise fit\n",
    "4. Gamma Parameter:Defines how far the influence of a single traning examples reaches with low values meaning far and high value meaning close A low gamma means that point far away from the decsion boundary have high influence and a high gamma means that only points close to the boundary have high influence/"
   ]
  }
 ],
 "metadata": {
  "kernelspec": {
   "display_name": "Python 3 (ipykernel)",
   "language": "python",
   "name": "python3"
  },
  "language_info": {
   "codemirror_mode": {
    "name": "ipython",
    "version": 3
   },
   "file_extension": ".py",
   "mimetype": "text/x-python",
   "name": "python",
   "nbconvert_exporter": "python",
   "pygments_lexer": "ipython3",
   "version": "3.10.8"
  }
 },
 "nbformat": 4,
 "nbformat_minor": 5
}
